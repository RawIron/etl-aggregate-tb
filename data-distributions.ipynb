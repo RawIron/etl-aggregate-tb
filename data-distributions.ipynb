{
 "cells": [
  {
   "cell_type": "code",
   "execution_count": 23,
   "metadata": {
    "collapsed": false
   },
   "outputs": [
    {
     "name": "stdout",
     "output_type": "stream",
     "text": [
      "Populating the interactive namespace from numpy and matplotlib\n"
     ]
    },
    {
     "name": "stderr",
     "output_type": "stream",
     "text": [
      "WARNING: pylab import has clobbered these variables: ['random']\n",
      "`%matplotlib` prevents importing * from pylab and numpy\n"
     ]
    }
   ],
   "source": [
    "%pylab inline\n",
    "\n",
    "import pandas as pd\n",
    "import random"
   ]
  },
  {
   "cell_type": "markdown",
   "metadata": {},
   "source": [
    "## Load"
   ]
  },
  {
   "cell_type": "code",
   "execution_count": 24,
   "metadata": {
    "collapsed": false
   },
   "outputs": [],
   "source": [
    "df = pd.read_csv('./getstat_com_serp_report_201707.csv', parse_dates=['Crawl Date'], na_values={'Location': ['']})"
   ]
  },
  {
   "cell_type": "code",
   "execution_count": 25,
   "metadata": {
    "collapsed": false
   },
   "outputs": [
    {
     "data": {
      "text/html": [
       "<div>\n",
       "<style>\n",
       "    .dataframe thead tr:only-child th {\n",
       "        text-align: right;\n",
       "    }\n",
       "\n",
       "    .dataframe thead th {\n",
       "        text-align: left;\n",
       "    }\n",
       "\n",
       "    .dataframe tbody tr th {\n",
       "        vertical-align: top;\n",
       "    }\n",
       "</style>\n",
       "<table border=\"1\" class=\"dataframe\">\n",
       "  <thead>\n",
       "    <tr style=\"text-align: right;\">\n",
       "      <th></th>\n",
       "      <th>Keyword</th>\n",
       "      <th>Market</th>\n",
       "      <th>Location</th>\n",
       "      <th>Device</th>\n",
       "      <th>Crawl Date</th>\n",
       "      <th>Rank</th>\n",
       "      <th>URL</th>\n",
       "    </tr>\n",
       "  </thead>\n",
       "  <tbody>\n",
       "    <tr>\n",
       "      <th>0</th>\n",
       "      <td>search analytics</td>\n",
       "      <td>US-en</td>\n",
       "      <td>NaN</td>\n",
       "      <td>desktop</td>\n",
       "      <td>2017-07-01</td>\n",
       "      <td>1</td>\n",
       "      <td>support.google.com/webmasters/answer/6155685?h...</td>\n",
       "    </tr>\n",
       "    <tr>\n",
       "      <th>1</th>\n",
       "      <td>search analytics</td>\n",
       "      <td>US-en</td>\n",
       "      <td>NaN</td>\n",
       "      <td>desktop</td>\n",
       "      <td>2017-07-01</td>\n",
       "      <td>2</td>\n",
       "      <td>trends.google.com/</td>\n",
       "    </tr>\n",
       "    <tr>\n",
       "      <th>2</th>\n",
       "      <td>search analytics</td>\n",
       "      <td>US-en</td>\n",
       "      <td>NaN</td>\n",
       "      <td>desktop</td>\n",
       "      <td>2017-07-01</td>\n",
       "      <td>3</td>\n",
       "      <td>developers.google.com/webmaster-tools/search-c...</td>\n",
       "    </tr>\n",
       "    <tr>\n",
       "      <th>3</th>\n",
       "      <td>search analytics</td>\n",
       "      <td>US-en</td>\n",
       "      <td>NaN</td>\n",
       "      <td>desktop</td>\n",
       "      <td>2017-07-01</td>\n",
       "      <td>4</td>\n",
       "      <td>en.wikipedia.org/wiki/Search_analytics</td>\n",
       "    </tr>\n",
       "    <tr>\n",
       "      <th>4</th>\n",
       "      <td>search analytics</td>\n",
       "      <td>US-en</td>\n",
       "      <td>NaN</td>\n",
       "      <td>desktop</td>\n",
       "      <td>2017-07-01</td>\n",
       "      <td>5</td>\n",
       "      <td>searchengineland.com/google-officially-launche...</td>\n",
       "    </tr>\n",
       "  </tbody>\n",
       "</table>\n",
       "</div>"
      ],
      "text/plain": [
       "            Keyword Market  Location   Device Crawl Date  Rank  \\\n",
       "0  search analytics  US-en       NaN  desktop 2017-07-01     1   \n",
       "1  search analytics  US-en       NaN  desktop 2017-07-01     2   \n",
       "2  search analytics  US-en       NaN  desktop 2017-07-01     3   \n",
       "3  search analytics  US-en       NaN  desktop 2017-07-01     4   \n",
       "4  search analytics  US-en       NaN  desktop 2017-07-01     5   \n",
       "\n",
       "                                                 URL  \n",
       "0  support.google.com/webmasters/answer/6155685?h...  \n",
       "1                                 trends.google.com/  \n",
       "2  developers.google.com/webmaster-tools/search-c...  \n",
       "3             en.wikipedia.org/wiki/Search_analytics  \n",
       "4  searchengineland.com/google-officially-launche...  "
      ]
     },
     "execution_count": 25,
     "metadata": {},
     "output_type": "execute_result"
    }
   ],
   "source": [
    "df[:5]"
   ]
  },
  {
   "cell_type": "markdown",
   "metadata": {},
   "source": [
    "Location might be empty"
   ]
  },
  {
   "cell_type": "code",
   "execution_count": 26,
   "metadata": {
    "collapsed": false
   },
   "outputs": [
    {
     "data": {
      "text/plain": [
       "9901038"
      ]
     },
     "execution_count": 26,
     "metadata": {},
     "output_type": "execute_result"
    }
   ],
   "source": [
    "df['Rank'].size"
   ]
  },
  {
   "cell_type": "markdown",
   "metadata": {},
   "source": [
    "## Take a first look"
   ]
  },
  {
   "cell_type": "markdown",
   "metadata": {},
   "source": [
    "track first 100 ranks for every keyword in one segment"
   ]
  },
  {
   "cell_type": "code",
   "execution_count": 27,
   "metadata": {
    "collapsed": false
   },
   "outputs": [
    {
     "data": {
      "text/plain": [
       "Crawl Date  Keyword                        Market  Device \n",
       "2017-07-01  \"analytics seo\"                GB-en   desktop     99\n",
       "                                           US-en   desktop    100\n",
       "            \"not provided\" google          GB-en   desktop    101\n",
       "                                           US-en   desktop    101\n",
       "            (not provided)                 GB-en   desktop    101\n",
       "                                           US-en   desktop    101\n",
       "            360 seo                        GB-en   desktop    100\n",
       "                                           US-en   desktop    100\n",
       "            360i conference                GB-en   desktop    100\n",
       "                                           US-en   desktop    100\n",
       "            360i contact                   GB-en   desktop    100\n",
       "                                           US-en   desktop    100\n",
       "            360i digital                   GB-en   desktop    100\n",
       "                                           US-en   desktop     97\n",
       "            360i digital agency            GB-en   desktop    100\n",
       "                                           US-en   desktop     97\n",
       "            360i digital marketing         GB-en   desktop    100\n",
       "                                           US-en   desktop     97\n",
       "            360i digital marketing agency  GB-en   desktop    100\n",
       "                                           US-en   desktop     97\n",
       "dtype: int64"
      ]
     },
     "execution_count": 27,
     "metadata": {},
     "output_type": "execute_result"
    }
   ],
   "source": [
    "df.groupby(['Crawl Date', 'Keyword', 'Market', 'Device']).size()[:20]"
   ]
  },
  {
   "cell_type": "markdown",
   "metadata": {},
   "source": [
    "sample of keywords and their URL in the first rank"
   ]
  },
  {
   "cell_type": "code",
   "execution_count": 28,
   "metadata": {
    "collapsed": false
   },
   "outputs": [
    {
     "data": {
      "text/html": [
       "<div>\n",
       "<style>\n",
       "    .dataframe thead tr:only-child th {\n",
       "        text-align: right;\n",
       "    }\n",
       "\n",
       "    .dataframe thead th {\n",
       "        text-align: left;\n",
       "    }\n",
       "\n",
       "    .dataframe tbody tr th {\n",
       "        vertical-align: top;\n",
       "    }\n",
       "</style>\n",
       "<table border=\"1\" class=\"dataframe\">\n",
       "  <thead>\n",
       "    <tr style=\"text-align: right;\">\n",
       "      <th></th>\n",
       "      <th>Keyword</th>\n",
       "      <th>Market</th>\n",
       "      <th>Location</th>\n",
       "      <th>Device</th>\n",
       "      <th>Crawl Date</th>\n",
       "      <th>Rank</th>\n",
       "      <th>URL</th>\n",
       "    </tr>\n",
       "  </thead>\n",
       "  <tbody>\n",
       "    <tr>\n",
       "      <th>0</th>\n",
       "      <td>search analytics</td>\n",
       "      <td>US-en</td>\n",
       "      <td>NaN</td>\n",
       "      <td>desktop</td>\n",
       "      <td>2017-07-01</td>\n",
       "      <td>1</td>\n",
       "      <td>support.google.com/webmasters/answer/6155685?h...</td>\n",
       "    </tr>\n",
       "    <tr>\n",
       "      <th>101</th>\n",
       "      <td>google serp tracking</td>\n",
       "      <td>US-en</td>\n",
       "      <td>NaN</td>\n",
       "      <td>desktop</td>\n",
       "      <td>2017-07-01</td>\n",
       "      <td>1</td>\n",
       "      <td>serps.com/tools/rank-checker/</td>\n",
       "    </tr>\n",
       "    <tr>\n",
       "      <th>201</th>\n",
       "      <td>seo stats</td>\n",
       "      <td>US-en</td>\n",
       "      <td>NaN</td>\n",
       "      <td>desktop</td>\n",
       "      <td>2017-07-01</td>\n",
       "      <td>1</td>\n",
       "      <td>www.searchenginejournal.com/24-eye-popping-seo...</td>\n",
       "    </tr>\n",
       "    <tr>\n",
       "      <th>302</th>\n",
       "      <td>analytics search</td>\n",
       "      <td>US-en</td>\n",
       "      <td>NaN</td>\n",
       "      <td>desktop</td>\n",
       "      <td>2017-07-01</td>\n",
       "      <td>1</td>\n",
       "      <td>support.google.com/webmasters/answer/6155685?h...</td>\n",
       "    </tr>\n",
       "    <tr>\n",
       "      <th>405</th>\n",
       "      <td>serp tracking</td>\n",
       "      <td>US-en</td>\n",
       "      <td>NaN</td>\n",
       "      <td>desktop</td>\n",
       "      <td>2017-07-01</td>\n",
       "      <td>1</td>\n",
       "      <td>www.rankscanner.com/about/</td>\n",
       "    </tr>\n",
       "    <tr>\n",
       "      <th>505</th>\n",
       "      <td>seo rank tracker</td>\n",
       "      <td>US-en</td>\n",
       "      <td>NaN</td>\n",
       "      <td>desktop</td>\n",
       "      <td>2017-07-01</td>\n",
       "      <td>1</td>\n",
       "      <td>www.link-assistant.com/rank-tracker/</td>\n",
       "    </tr>\n",
       "    <tr>\n",
       "      <th>605</th>\n",
       "      <td>seo tracker</td>\n",
       "      <td>US-en</td>\n",
       "      <td>NaN</td>\n",
       "      <td>desktop</td>\n",
       "      <td>2017-07-01</td>\n",
       "      <td>1</td>\n",
       "      <td>www.seopowersuite.com/rank-tracker/</td>\n",
       "    </tr>\n",
       "    <tr>\n",
       "      <th>705</th>\n",
       "      <td>bing and yahoo</td>\n",
       "      <td>US-en</td>\n",
       "      <td>NaN</td>\n",
       "      <td>desktop</td>\n",
       "      <td>2017-07-01</td>\n",
       "      <td>1</td>\n",
       "      <td>searchengineland.com/yahoo-bing-renegotiate-se...</td>\n",
       "    </tr>\n",
       "    <tr>\n",
       "      <th>806</th>\n",
       "      <td>analytics seo</td>\n",
       "      <td>US-en</td>\n",
       "      <td>NaN</td>\n",
       "      <td>desktop</td>\n",
       "      <td>2017-07-01</td>\n",
       "      <td>1</td>\n",
       "      <td>www.authoritas.com/</td>\n",
       "    </tr>\n",
       "    <tr>\n",
       "      <th>906</th>\n",
       "      <td>rank tracker seo</td>\n",
       "      <td>US-en</td>\n",
       "      <td>NaN</td>\n",
       "      <td>desktop</td>\n",
       "      <td>2017-07-01</td>\n",
       "      <td>1</td>\n",
       "      <td>www.link-assistant.com/rank-tracker/</td>\n",
       "    </tr>\n",
       "  </tbody>\n",
       "</table>\n",
       "</div>"
      ],
      "text/plain": [
       "                  Keyword Market  Location   Device Crawl Date  Rank  \\\n",
       "0        search analytics  US-en       NaN  desktop 2017-07-01     1   \n",
       "101  google serp tracking  US-en       NaN  desktop 2017-07-01     1   \n",
       "201             seo stats  US-en       NaN  desktop 2017-07-01     1   \n",
       "302      analytics search  US-en       NaN  desktop 2017-07-01     1   \n",
       "405         serp tracking  US-en       NaN  desktop 2017-07-01     1   \n",
       "505      seo rank tracker  US-en       NaN  desktop 2017-07-01     1   \n",
       "605           seo tracker  US-en       NaN  desktop 2017-07-01     1   \n",
       "705        bing and yahoo  US-en       NaN  desktop 2017-07-01     1   \n",
       "806         analytics seo  US-en       NaN  desktop 2017-07-01     1   \n",
       "906      rank tracker seo  US-en       NaN  desktop 2017-07-01     1   \n",
       "\n",
       "                                                   URL  \n",
       "0    support.google.com/webmasters/answer/6155685?h...  \n",
       "101                      serps.com/tools/rank-checker/  \n",
       "201  www.searchenginejournal.com/24-eye-popping-seo...  \n",
       "302  support.google.com/webmasters/answer/6155685?h...  \n",
       "405                         www.rankscanner.com/about/  \n",
       "505               www.link-assistant.com/rank-tracker/  \n",
       "605                www.seopowersuite.com/rank-tracker/  \n",
       "705  searchengineland.com/yahoo-bing-renegotiate-se...  \n",
       "806                                www.authoritas.com/  \n",
       "906               www.link-assistant.com/rank-tracker/  "
      ]
     },
     "execution_count": 28,
     "metadata": {},
     "output_type": "execute_result"
    }
   ],
   "source": [
    "df[(df['Crawl Date'] == '2017-07-01') & (df['Rank'] == 1)][:10]"
   ]
  },
  {
   "cell_type": "markdown",
   "metadata": {},
   "source": [
    "one keyword and the URL in the first rank in all segments"
   ]
  },
  {
   "cell_type": "code",
   "execution_count": 29,
   "metadata": {
    "collapsed": false
   },
   "outputs": [
    {
     "data": {
      "text/html": [
       "<div>\n",
       "<style>\n",
       "    .dataframe thead tr:only-child th {\n",
       "        text-align: right;\n",
       "    }\n",
       "\n",
       "    .dataframe thead th {\n",
       "        text-align: left;\n",
       "    }\n",
       "\n",
       "    .dataframe tbody tr th {\n",
       "        vertical-align: top;\n",
       "    }\n",
       "</style>\n",
       "<table border=\"1\" class=\"dataframe\">\n",
       "  <thead>\n",
       "    <tr style=\"text-align: right;\">\n",
       "      <th></th>\n",
       "      <th>Keyword</th>\n",
       "      <th>Market</th>\n",
       "      <th>Location</th>\n",
       "      <th>Device</th>\n",
       "      <th>Crawl Date</th>\n",
       "      <th>Rank</th>\n",
       "      <th>URL</th>\n",
       "    </tr>\n",
       "  </thead>\n",
       "  <tbody>\n",
       "    <tr>\n",
       "      <th>314519</th>\n",
       "      <td>seo intent</td>\n",
       "      <td>CA-en</td>\n",
       "      <td>NaN</td>\n",
       "      <td>desktop</td>\n",
       "      <td>2017-07-01</td>\n",
       "      <td>1</td>\n",
       "      <td>www.searchenginejournal.com/user-intent-future...</td>\n",
       "    </tr>\n",
       "    <tr>\n",
       "      <th>315420</th>\n",
       "      <td>seo intent</td>\n",
       "      <td>CA-en</td>\n",
       "      <td>NaN</td>\n",
       "      <td>smartphone</td>\n",
       "      <td>2017-07-01</td>\n",
       "      <td>1</td>\n",
       "      <td>www.searchenginejournal.com/user-intent-future...</td>\n",
       "    </tr>\n",
       "    <tr>\n",
       "      <th>316322</th>\n",
       "      <td>seo intent</td>\n",
       "      <td>US-en</td>\n",
       "      <td>NaN</td>\n",
       "      <td>desktop</td>\n",
       "      <td>2017-07-01</td>\n",
       "      <td>1</td>\n",
       "      <td>www.searchenginejournal.com/user-intent-future...</td>\n",
       "    </tr>\n",
       "    <tr>\n",
       "      <th>317227</th>\n",
       "      <td>seo intent</td>\n",
       "      <td>US-en</td>\n",
       "      <td>NaN</td>\n",
       "      <td>smartphone</td>\n",
       "      <td>2017-07-01</td>\n",
       "      <td>1</td>\n",
       "      <td>www.searchenginejournal.com/user-intent-future...</td>\n",
       "    </tr>\n",
       "    <tr>\n",
       "      <th>318129</th>\n",
       "      <td>seo intent</td>\n",
       "      <td>GB-en</td>\n",
       "      <td>NaN</td>\n",
       "      <td>desktop</td>\n",
       "      <td>2017-07-01</td>\n",
       "      <td>1</td>\n",
       "      <td>www.searchenginejournal.com/user-intent-future...</td>\n",
       "    </tr>\n",
       "    <tr>\n",
       "      <th>319031</th>\n",
       "      <td>seo intent</td>\n",
       "      <td>GB-en</td>\n",
       "      <td>NaN</td>\n",
       "      <td>smartphone</td>\n",
       "      <td>2017-07-01</td>\n",
       "      <td>1</td>\n",
       "      <td>www.searchenginejournal.com/user-intent-future...</td>\n",
       "    </tr>\n",
       "  </tbody>\n",
       "</table>\n",
       "</div>"
      ],
      "text/plain": [
       "           Keyword Market  Location      Device Crawl Date  Rank  \\\n",
       "314519  seo intent  CA-en       NaN     desktop 2017-07-01     1   \n",
       "315420  seo intent  CA-en       NaN  smartphone 2017-07-01     1   \n",
       "316322  seo intent  US-en       NaN     desktop 2017-07-01     1   \n",
       "317227  seo intent  US-en       NaN  smartphone 2017-07-01     1   \n",
       "318129  seo intent  GB-en       NaN     desktop 2017-07-01     1   \n",
       "319031  seo intent  GB-en       NaN  smartphone 2017-07-01     1   \n",
       "\n",
       "                                                      URL  \n",
       "314519  www.searchenginejournal.com/user-intent-future...  \n",
       "315420  www.searchenginejournal.com/user-intent-future...  \n",
       "316322  www.searchenginejournal.com/user-intent-future...  \n",
       "317227  www.searchenginejournal.com/user-intent-future...  \n",
       "318129  www.searchenginejournal.com/user-intent-future...  \n",
       "319031  www.searchenginejournal.com/user-intent-future...  "
      ]
     },
     "execution_count": 29,
     "metadata": {},
     "output_type": "execute_result"
    }
   ],
   "source": [
    "df[(df['Crawl Date'] == '2017-07-01') & (df['Keyword'] == 'seo intent') & (df['Rank'] == 1)]"
   ]
  },
  {
   "cell_type": "markdown",
   "metadata": {},
   "source": [
    "## Multi-Dimensional Distribution"
   ]
  },
  {
   "cell_type": "markdown",
   "metadata": {},
   "source": [
    "### curse of dimensionality"
   ]
  },
  {
   "cell_type": "markdown",
   "metadata": {},
   "source": [
    "the exponential equation of multi-dimensional data (density = 1.0):\n",
    "\n",
    "    number of rows = card(dim 1) * .. * card(dim N)\n",
    "        ~= C * card(dim factored)**N\n",
    "        \n",
    "    example: 2,000 * 4,000 * 6,000 = 6 * 2,000**3\n",
    "    \n",
    "for one keyword track the top 100 urls in all segments\n",
    "\n",
    "    number rows per day = card(keywords) * card(segment 1) .. * card(segment N) * card(ranks)\n",
    "    \n",
    "    2 keywords * 2 markets * 2 devices * 100 ranks = 800 rows per day\n",
    "    1,000 keywords * 3 markets * 2 devices * 100 ranks = 600,000\n",
    "    \n",
    "do this over time\n",
    "\n",
    "    number rows = card(days) * card(keywords) * card(segment 1) .. * card(segment N) * card(ranks)\n",
    "    \n",
    "    30 days * 2 keywords * 2 markets * 2 devices * 100 ranks = 24,000 rows\n",
    "    30 days * 1,000 keywords * 3 markets * 2 devices * 100 ranks = 18,000,000"
   ]
  },
  {
   "cell_type": "markdown",
   "metadata": {},
   "source": [
    "are there 600,000 rows per day?"
   ]
  },
  {
   "cell_type": "code",
   "execution_count": 30,
   "metadata": {
    "collapsed": false
   },
   "outputs": [],
   "source": [
    "N_DAYS = 4\n",
    "first_days = df['Crawl Date'] < df['Crawl Date'].unique()[N_DAYS]"
   ]
  },
  {
   "cell_type": "code",
   "execution_count": 31,
   "metadata": {
    "collapsed": false
   },
   "outputs": [
    {
     "data": {
      "text/plain": [
       "Crawl Date\n",
       "2017-07-01    319534\n",
       "2017-07-02    319426\n",
       "2017-07-03    319452\n",
       "2017-07-04    319395\n",
       "dtype: int64"
      ]
     },
     "execution_count": 31,
     "metadata": {},
     "output_type": "execute_result"
    }
   ],
   "source": [
    "# df.groupby('Crawl Date')['Crawl Date'].count()\n",
    "df[first_days].groupby('Crawl Date').size()"
   ]
  },
  {
   "cell_type": "markdown",
   "metadata": {},
   "source": [
    "only get 300,000 rows per day\n",
    "\n",
    "    density = 0.53\n",
    "    sparsity = 0.47\n",
    "\n",
    "and over the time of 31 days it stays around 319,000 per day"
   ]
  },
  {
   "cell_type": "code",
   "execution_count": 32,
   "metadata": {
    "collapsed": false
   },
   "outputs": [
    {
     "data": {
      "text/plain": [
       "<matplotlib.axes._subplots.AxesSubplot at 0x7fd2283e4490>"
      ]
     },
     "execution_count": 32,
     "metadata": {},
     "output_type": "execute_result"
    },
    {
     "data": {
      "image/png": "[encoded data removed]",
      "text/plain": [
       "<matplotlib.figure.Figure at 0x7fd22837bbd0>"
      ]
     },
     "metadata": {},
     "output_type": "display_data"
    }
   ],
   "source": [
    "df.groupby('Crawl Date').size().plot()"
   ]
  },
  {
   "cell_type": "markdown",
   "metadata": {},
   "source": [
    "### investigate distribution"
   ]
  },
  {
   "cell_type": "markdown",
   "metadata": {},
   "source": [
    "#### has every segement same number of keywords?"
   ]
  },
  {
   "cell_type": "code",
   "execution_count": 33,
   "metadata": {
    "collapsed": false
   },
   "outputs": [
    {
     "data": {
      "text/plain": [
       "Crawl Date  Market  Device    \n",
       "2017-07-01  CA-en   desktop        142\n",
       "                    smartphone     144\n",
       "            GB-en   desktop       1258\n",
       "                    smartphone     157\n",
       "            US-en   desktop       1284\n",
       "                    smartphone     197\n",
       "2017-07-02  CA-en   desktop        142\n",
       "                    smartphone     144\n",
       "            GB-en   desktop       1258\n",
       "                    smartphone     157\n",
       "            US-en   desktop       1284\n",
       "                    smartphone     197\n",
       "2017-07-03  CA-en   desktop        142\n",
       "                    smartphone     144\n",
       "            GB-en   desktop       1258\n",
       "                    smartphone     157\n",
       "            US-en   desktop       1284\n",
       "                    smartphone     197\n",
       "2017-07-04  CA-en   desktop        142\n",
       "                    smartphone     144\n",
       "            GB-en   desktop       1258\n",
       "                    smartphone     157\n",
       "            US-en   desktop       1284\n",
       "                    smartphone     197\n",
       "Name: Keyword, dtype: int64"
      ]
     },
     "execution_count": 33,
     "metadata": {},
     "output_type": "execute_result"
    }
   ],
   "source": [
    "df[first_days].groupby(['Crawl Date', 'Market', 'Device'])['Keyword'].nunique()"
   ]
  },
  {
   "cell_type": "markdown",
   "metadata": {},
   "source": [
    "number of tracked keywords per segment is very different\n",
    "\n",
    "it explains why there are only 310,000 rows per day:\n",
    "\n",
    "    1250 keywords * 2 markets * 1 device * 100 ranks = 250,000\n",
    "    150 keywords * 4 (markets, devices) * 100 ranks = 60,000\n",
    "    \n",
    "    = 310,000 rows per day"
   ]
  },
  {
   "cell_type": "markdown",
   "metadata": {},
   "source": [
    "#### are there always 100 ranks per keyword?"
   ]
  },
  {
   "cell_type": "markdown",
   "metadata": {},
   "source": [
    "the keyword counts from above should increase by a factor of 100"
   ]
  },
  {
   "cell_type": "code",
   "execution_count": 34,
   "metadata": {
    "collapsed": false
   },
   "outputs": [
    {
     "data": {
      "text/plain": [
       "Crawl Date  Market  Device    \n",
       "2017-07-01  CA-en   desktop        14287\n",
       "                    smartphone     14532\n",
       "            GB-en   desktop       126246\n",
       "                    smartphone     15726\n",
       "            US-en   desktop       128852\n",
       "                    smartphone     19891\n",
       "2017-07-02  CA-en   desktop        14285\n",
       "                    smartphone     14526\n",
       "            GB-en   desktop       126111\n",
       "                    smartphone     15811\n",
       "            US-en   desktop       128800\n",
       "                    smartphone     19893\n",
       "2017-07-03  CA-en   desktop        14288\n",
       "                    smartphone     14535\n",
       "            GB-en   desktop       126217\n",
       "                    smartphone     15830\n",
       "            US-en   desktop       128700\n",
       "                    smartphone     19882\n",
       "2017-07-04  CA-en   desktop        14281\n",
       "                    smartphone     14518\n",
       "            GB-en   desktop       126185\n",
       "                    smartphone     15828\n",
       "            US-en   desktop       128696\n",
       "                    smartphone     19887\n",
       "dtype: int64"
      ]
     },
     "execution_count": 34,
     "metadata": {},
     "output_type": "execute_result"
    }
   ],
   "source": [
    "df[first_days].groupby(['Crawl Date', 'Market', 'Device']).size()"
   ]
  },
  {
   "cell_type": "markdown",
   "metadata": {},
   "source": [
    "#### keywords and urls"
   ]
  },
  {
   "cell_type": "markdown",
   "metadata": {},
   "source": [
    "* less urls than keywords: some urls rank for more than 1 keyword\n",
    "* less keywords than urls: different segments of a keyword have different urls for one rank"
   ]
  },
  {
   "cell_type": "code",
   "execution_count": 35,
   "metadata": {
    "collapsed": false
   },
   "outputs": [
    {
     "data": {
      "text/html": [
       "<div>\n",
       "<style>\n",
       "    .dataframe thead tr:only-child th {\n",
       "        text-align: right;\n",
       "    }\n",
       "\n",
       "    .dataframe thead th {\n",
       "        text-align: left;\n",
       "    }\n",
       "\n",
       "    .dataframe tbody tr th {\n",
       "        vertical-align: top;\n",
       "    }\n",
       "</style>\n",
       "<table border=\"1\" class=\"dataframe\">\n",
       "  <thead>\n",
       "    <tr style=\"text-align: right;\">\n",
       "      <th></th>\n",
       "      <th></th>\n",
       "      <th>Keyword</th>\n",
       "      <th>URL</th>\n",
       "    </tr>\n",
       "    <tr>\n",
       "      <th>Crawl Date</th>\n",
       "      <th>Rank</th>\n",
       "      <th></th>\n",
       "      <th></th>\n",
       "    </tr>\n",
       "  </thead>\n",
       "  <tbody>\n",
       "    <tr>\n",
       "      <th rowspan=\"6\" valign=\"top\">2017-07-01</th>\n",
       "      <th>5</th>\n",
       "      <td>1290</td>\n",
       "      <td>1247</td>\n",
       "    </tr>\n",
       "    <tr>\n",
       "      <th>6</th>\n",
       "      <td>1290</td>\n",
       "      <td>1357</td>\n",
       "    </tr>\n",
       "    <tr>\n",
       "      <th>7</th>\n",
       "      <td>1290</td>\n",
       "      <td>1454</td>\n",
       "    </tr>\n",
       "    <tr>\n",
       "      <th>8</th>\n",
       "      <td>1290</td>\n",
       "      <td>1532</td>\n",
       "    </tr>\n",
       "    <tr>\n",
       "      <th>9</th>\n",
       "      <td>1290</td>\n",
       "      <td>1581</td>\n",
       "    </tr>\n",
       "    <tr>\n",
       "      <th>10</th>\n",
       "      <td>1290</td>\n",
       "      <td>1592</td>\n",
       "    </tr>\n",
       "    <tr>\n",
       "      <th rowspan=\"6\" valign=\"top\">2017-07-02</th>\n",
       "      <th>5</th>\n",
       "      <td>1290</td>\n",
       "      <td>1237</td>\n",
       "    </tr>\n",
       "    <tr>\n",
       "      <th>6</th>\n",
       "      <td>1290</td>\n",
       "      <td>1366</td>\n",
       "    </tr>\n",
       "    <tr>\n",
       "      <th>7</th>\n",
       "      <td>1290</td>\n",
       "      <td>1478</td>\n",
       "    </tr>\n",
       "    <tr>\n",
       "      <th>8</th>\n",
       "      <td>1290</td>\n",
       "      <td>1509</td>\n",
       "    </tr>\n",
       "    <tr>\n",
       "      <th>9</th>\n",
       "      <td>1290</td>\n",
       "      <td>1568</td>\n",
       "    </tr>\n",
       "    <tr>\n",
       "      <th>10</th>\n",
       "      <td>1290</td>\n",
       "      <td>1602</td>\n",
       "    </tr>\n",
       "  </tbody>\n",
       "</table>\n",
       "</div>"
      ],
      "text/plain": [
       "                 Keyword   URL\n",
       "Crawl Date Rank               \n",
       "2017-07-01 5        1290  1247\n",
       "           6        1290  1357\n",
       "           7        1290  1454\n",
       "           8        1290  1532\n",
       "           9        1290  1581\n",
       "           10       1290  1592\n",
       "2017-07-02 5        1290  1237\n",
       "           6        1290  1366\n",
       "           7        1290  1478\n",
       "           8        1290  1509\n",
       "           9        1290  1568\n",
       "           10       1290  1602"
      ]
     },
     "execution_count": 35,
     "metadata": {},
     "output_type": "execute_result"
    }
   ],
   "source": [
    "df[(df['Crawl Date'] <= '2017-07-02') & (df['Rank'] >= 5) & (df['Rank'] <= 10)] \\\n",
    "  .groupby(['Crawl Date', 'Rank'])['Keyword', 'URL'] \\\n",
    "  .nunique()"
   ]
  },
  {
   "cell_type": "markdown",
   "metadata": {},
   "source": [
    "#### how many unique URLs per day, per day and segment permutation?"
   ]
  },
  {
   "cell_type": "code",
   "execution_count": 36,
   "metadata": {
    "collapsed": false
   },
   "outputs": [
    {
     "data": {
      "text/plain": [
       "Crawl Date\n",
       "2017-07-01    63822\n",
       "2017-07-02    64870\n",
       "2017-07-03    65100\n",
       "2017-07-04    65029\n",
       "2017-07-05    64811\n",
       "2017-07-06    63971\n",
       "Name: URL, dtype: int64"
      ]
     },
     "execution_count": 36,
     "metadata": {},
     "output_type": "execute_result"
    }
   ],
   "source": [
    "df[(df['Crawl Date'] <= '2017-07-06')] \\\n",
    "  .groupby(['Crawl Date'])['URL'] \\\n",
    "  .nunique()"
   ]
  },
  {
   "cell_type": "code",
   "execution_count": 37,
   "metadata": {
    "collapsed": false
   },
   "outputs": [
    {
     "data": {
      "text/plain": [
       "Crawl Date  Market\n",
       "2017-07-01  CA-en     12444\n",
       "            GB-en     47874\n",
       "            US-en     48291\n",
       "2017-07-02  CA-en     12526\n",
       "            GB-en     48246\n",
       "            US-en     48603\n",
       "2017-07-03  CA-en     12532\n",
       "            GB-en     48281\n",
       "            US-en     48542\n",
       "Name: URL, dtype: int64"
      ]
     },
     "execution_count": 37,
     "metadata": {},
     "output_type": "execute_result"
    }
   ],
   "source": [
    "df[(df['Crawl Date'] <= '2017-07-03')] \\\n",
    "  .groupby(['Crawl Date', 'Market'])['URL'] \\\n",
    "  .nunique()"
   ]
  },
  {
   "cell_type": "code",
   "execution_count": 38,
   "metadata": {
    "collapsed": false
   },
   "outputs": [
    {
     "data": {
      "text/plain": [
       "Crawl Date  Market  Device    \n",
       "2017-07-01  CA-en   desktop        9295\n",
       "                    smartphone     9608\n",
       "            GB-en   desktop       44924\n",
       "                    smartphone    10408\n",
       "            US-en   desktop       45069\n",
       "                    smartphone    11620\n",
       "2017-07-02  CA-en   desktop        9333\n",
       "                    smartphone     9580\n",
       "            GB-en   desktop       45166\n",
       "                    smartphone    10415\n",
       "            US-en   desktop       45187\n",
       "                    smartphone    11662\n",
       "2017-07-03  CA-en   desktop        9325\n",
       "                    smartphone     9669\n",
       "            GB-en   desktop       45203\n",
       "                    smartphone    10391\n",
       "            US-en   desktop       45189\n",
       "                    smartphone    11709\n",
       "Name: URL, dtype: int64"
      ]
     },
     "execution_count": 38,
     "metadata": {},
     "output_type": "execute_result"
    }
   ],
   "source": [
    "df[(df['Crawl Date'] <= '2017-07-03')] \\\n",
    "  .groupby(['Crawl Date', 'Market', 'Device'])['URL'] \\\n",
    "  .nunique()"
   ]
  },
  {
   "cell_type": "markdown",
   "metadata": {},
   "source": [
    "### anomaly detection"
   ]
  },
  {
   "cell_type": "markdown",
   "metadata": {},
   "source": [
    "are the above numbers consistent over time?\n",
    "\n",
    "plot each segment with number of keywords over time"
   ]
  },
  {
   "cell_type": "code",
   "execution_count": 39,
   "metadata": {
    "collapsed": false
   },
   "outputs": [
    {
     "data": {
      "text/plain": [
       "<matplotlib.axes._subplots.AxesSubplot at 0x7fd1f94e3dd0>"
      ]
     },
     "execution_count": 39,
     "metadata": {},
     "output_type": "execute_result"
    },
    {
     "data": {
      "image/png": "[encoded data removed]",
      "text/plain": [
       "<matplotlib.figure.Figure at 0x7fd22837bed0>"
      ]
     },
     "metadata": {},
     "output_type": "display_data"
    }
   ],
   "source": [
    "df.query('Market == \"GB-en\" and Device == \"desktop\"')\\\n",
    "  .groupby(['Crawl Date'])['Keyword']\\\n",
    "  .nunique()\\\n",
    "  .plot()"
   ]
  },
  {
   "cell_type": "markdown",
   "metadata": {},
   "source": [
    "## 1-Dimensional Distribution (columns)"
   ]
  },
  {
   "cell_type": "markdown",
   "metadata": {},
   "source": [
    "### Crawl Date"
   ]
  },
  {
   "cell_type": "markdown",
   "metadata": {},
   "source": [
    "should have data for every day\n",
    "\n",
    "the \"Crawl Date\" column has only valid dates of July 2017\n",
    "\n",
    "should have 31 unique dates"
   ]
  },
  {
   "cell_type": "code",
   "execution_count": 40,
   "metadata": {
    "collapsed": false
   },
   "outputs": [
    {
     "data": {
      "text/plain": [
       "31"
      ]
     },
     "execution_count": 40,
     "metadata": {},
     "output_type": "execute_result"
    }
   ],
   "source": [
    "# df.groupby('Crawl Date')['Crawl Date'].count()\n",
    "df['Crawl Date'].nunique()"
   ]
  },
  {
   "cell_type": "code",
   "execution_count": 41,
   "metadata": {
    "collapsed": false
   },
   "outputs": [
    {
     "data": {
      "text/plain": [
       "array(['2017-07-01T00:00:00.000000000', '2017-07-02T00:00:00.000000000',\n",
       "       '2017-07-03T00:00:00.000000000', '2017-07-04T00:00:00.000000000'], dtype='datetime64[ns]')"
      ]
     },
     "execution_count": 41,
     "metadata": {},
     "output_type": "execute_result"
    }
   ],
   "source": [
    "df['Crawl Date'].unique()[:4]"
   ]
  },
  {
   "cell_type": "markdown",
   "metadata": {},
   "source": [
    "### Rank"
   ]
  },
  {
   "cell_type": "code",
   "execution_count": 42,
   "metadata": {
    "collapsed": false
   },
   "outputs": [
    {
     "data": {
      "text/plain": [
       "107"
      ]
     },
     "execution_count": 42,
     "metadata": {},
     "output_type": "execute_result"
    }
   ],
   "source": [
    "df['Rank'].nunique()"
   ]
  },
  {
   "cell_type": "markdown",
   "metadata": {},
   "source": [
    "#### similar number of rows for every rank?"
   ]
  },
  {
   "cell_type": "markdown",
   "metadata": {},
   "source": [
    "first peek looks promising"
   ]
  },
  {
   "cell_type": "code",
   "execution_count": 43,
   "metadata": {
    "collapsed": false
   },
   "outputs": [
    {
     "data": {
      "text/plain": [
       "Rank\n",
       "1    98797\n",
       "2    98761\n",
       "3    99084\n",
       "4    99029\n",
       "dtype: int64"
      ]
     },
     "execution_count": 43,
     "metadata": {},
     "output_type": "execute_result"
    }
   ],
   "source": [
    "df.query('Rank < 5').groupby('Rank').size()"
   ]
  },
  {
   "cell_type": "markdown",
   "metadata": {},
   "source": [
    "plot a histogram to see the distribution"
   ]
  },
  {
   "cell_type": "code",
   "execution_count": 44,
   "metadata": {
    "collapsed": false
   },
   "outputs": [
    {
     "data": {
      "text/plain": [
       "<matplotlib.axes._subplots.AxesSubplot at 0x7fd1f949db90>"
      ]
     },
     "execution_count": 44,
     "metadata": {},
     "output_type": "execute_result"
    },
    {
     "data": {
      "image/png": "[encoded data removed]",
      "text/plain": [
       "<matplotlib.figure.Figure at 0x7fd1f94f7090>"
      ]
     },
     "metadata": {},
     "output_type": "display_data"
    }
   ],
   "source": [
    "df.groupby('Rank').size().plot.hist()"
   ]
  },
  {
   "cell_type": "markdown",
   "metadata": {},
   "source": [
    "which ranks deviate?\n",
    "\n",
    "plot number of rows over rank"
   ]
  },
  {
   "cell_type": "code",
   "execution_count": 45,
   "metadata": {
    "collapsed": false
   },
   "outputs": [
    {
     "data": {
      "text/plain": [
       "<matplotlib.axes._subplots.AxesSubplot at 0x7fd1f9324ad0>"
      ]
     },
     "execution_count": 45,
     "metadata": {},
     "output_type": "execute_result"
    },
    {
     "data": {
      "image/png": "[encoded data removed]",
      "text/plain": [
       "<matplotlib.figure.Figure at 0x7fd1f924bed0>"
      ]
     },
     "metadata": {},
     "output_type": "display_data"
    }
   ],
   "source": [
    "df.groupby('Rank').size().plot()"
   ]
  },
  {
   "cell_type": "markdown",
   "metadata": {},
   "source": [
    "must be ranks > 100"
   ]
  },
  {
   "cell_type": "code",
   "execution_count": 46,
   "metadata": {
    "collapsed": false
   },
   "outputs": [
    {
     "data": {
      "text/plain": [
       "Rank\n",
       "96     98451\n",
       "97     98410\n",
       "98     97897\n",
       "99     97802\n",
       "100    97294\n",
       "101    32830\n",
       "102     9679\n",
       "103     1156\n",
       "104      350\n",
       "105      102\n",
       "106        2\n",
       "107        1\n",
       "dtype: int64"
      ]
     },
     "execution_count": 46,
     "metadata": {},
     "output_type": "execute_result"
    }
   ],
   "source": [
    "df.query('Rank > 95').groupby('Rank').size()"
   ]
  },
  {
   "cell_type": "markdown",
   "metadata": {},
   "source": [
    "#### are the data evenly distributed over the ranks"
   ]
  },
  {
   "cell_type": "markdown",
   "metadata": {},
   "source": [
    "take a sample first"
   ]
  },
  {
   "cell_type": "code",
   "execution_count": 47,
   "metadata": {
    "collapsed": false
   },
   "outputs": [
    {
     "data": {
      "text/plain": [
       "Crawl Date  Rank\n",
       "2017-07-01  1       3188\n",
       "            2       3193\n",
       "            3       3193\n",
       "            4       3192\n",
       "2017-07-02  1       3221\n",
       "            2       3191\n",
       "            3       3184\n",
       "            4       3188\n",
       "2017-07-03  1       3184\n",
       "            2       3182\n",
       "            3       3186\n",
       "            4       3193\n",
       "dtype: int64"
      ]
     },
     "execution_count": 47,
     "metadata": {},
     "output_type": "execute_result"
    }
   ],
   "source": [
    "df[(df['Crawl Date'] < '2017-07-04') & (df['Rank'] < 5)].groupby(['Crawl Date', 'Rank']).size()"
   ]
  },
  {
   "cell_type": "markdown",
   "metadata": {},
   "source": [
    "    30 days * 100 ranks = 3000 datapoints\n",
    "    \n",
    "almost all of them have a value of 3,000"
   ]
  },
  {
   "cell_type": "code",
   "execution_count": 48,
   "metadata": {
    "collapsed": false
   },
   "outputs": [
    {
     "data": {
      "text/plain": [
       "<matplotlib.axes._subplots.AxesSubplot at 0x7fd1f92847d0>"
      ]
     },
     "execution_count": 48,
     "metadata": {},
     "output_type": "execute_result"
    },
    {
     "data": {
      "image/png": "[encoded data removed]",
      "text/plain": [
       "<matplotlib.figure.Figure at 0x7fd1f92ff750>"
      ]
     },
     "metadata": {},
     "output_type": "display_data"
    }
   ],
   "source": [
    "df.groupby(['Crawl Date', 'Rank']).size().plot.hist()"
   ]
  },
  {
   "cell_type": "markdown",
   "metadata": {},
   "source": [
    "### Device"
   ]
  },
  {
   "cell_type": "code",
   "execution_count": 49,
   "metadata": {
    "collapsed": false
   },
   "outputs": [
    {
     "data": {
      "text/plain": [
       "2"
      ]
     },
     "execution_count": 49,
     "metadata": {},
     "output_type": "execute_result"
    }
   ],
   "source": [
    "df['Device'].nunique()"
   ]
  },
  {
   "cell_type": "code",
   "execution_count": 50,
   "metadata": {
    "collapsed": false
   },
   "outputs": [
    {
     "data": {
      "text/plain": [
       "Device\n",
       "desktop       8345839\n",
       "smartphone    1555199\n",
       "dtype: int64"
      ]
     },
     "execution_count": 50,
     "metadata": {},
     "output_type": "execute_result"
    }
   ],
   "source": [
    "# df.groupby('Device')['Device'].count()\n",
    "df.groupby('Device').size()"
   ]
  },
  {
   "cell_type": "markdown",
   "metadata": {},
   "source": [
    "there is less data for the device \"smartphone\""
   ]
  },
  {
   "cell_type": "markdown",
   "metadata": {},
   "source": [
    "### Keyword"
   ]
  },
  {
   "cell_type": "markdown",
   "metadata": {},
   "source": [
    "track fixed number of keywords over 1 month"
   ]
  },
  {
   "cell_type": "code",
   "execution_count": 51,
   "metadata": {
    "collapsed": false
   },
   "outputs": [
    {
     "data": {
      "text/plain": [
       "1290"
      ]
     },
     "execution_count": 51,
     "metadata": {},
     "output_type": "execute_result"
    }
   ],
   "source": [
    "df['Keyword'].nunique()"
   ]
  },
  {
   "cell_type": "markdown",
   "metadata": {},
   "source": [
    "keywords with\n",
    "\n",
    "    200 = 2 * 100 ranks\n",
    "    \n",
    "are only tracked in two of the six segments"
   ]
  },
  {
   "cell_type": "code",
   "execution_count": 52,
   "metadata": {
    "collapsed": false
   },
   "outputs": [
    {
     "data": {
      "text/plain": [
       "Crawl Date  Keyword                      \n",
       "2017-07-01  \"analytics seo\"                  199\n",
       "            \"not provided\" google            202\n",
       "            (not provided)                   202\n",
       "            360 seo                          200\n",
       "            360i conference                  200\n",
       "            360i contact                     200\n",
       "            360i digital                     197\n",
       "            360i digital agency              197\n",
       "            360i digital marketing           197\n",
       "            360i digital marketing agency    197\n",
       "            360i news                        200\n",
       "            360i search marketing            200\n",
       "            [secure search]                  201\n",
       "            accurate rank tracker            200\n",
       "            accurate rank tracking           200\n",
       "            accurate seo rank tracking       200\n",
       "            advanced rank tracker            199\n",
       "            advanced rank tracking           200\n",
       "            adwords dublin                   200\n",
       "            agency rank tracking             200\n",
       "dtype: int64"
      ]
     },
     "execution_count": 52,
     "metadata": {},
     "output_type": "execute_result"
    }
   ],
   "source": [
    "df.groupby(['Crawl Date', 'Keyword']).size()[:20]"
   ]
  },
  {
   "cell_type": "code",
   "execution_count": 53,
   "metadata": {
    "collapsed": false
   },
   "outputs": [
    {
     "data": {
      "text/plain": [
       "<matplotlib.axes._subplots.AxesSubplot at 0x7fd1f925fcd0>"
      ]
     },
     "execution_count": 53,
     "metadata": {},
     "output_type": "execute_result"
    },
    {
     "data": {
      "image/png": "[encoded data removed]",
      "text/plain": [
       "<matplotlib.figure.Figure at 0x7fd256335350>"
      ]
     },
     "metadata": {},
     "output_type": "display_data"
    }
   ],
   "source": [
    "df.groupby(['Crawl Date', 'Keyword']).size().plot.hist()"
   ]
  },
  {
   "cell_type": "markdown",
   "metadata": {},
   "source": [
    "### keyword length"
   ]
  },
  {
   "cell_type": "code",
   "execution_count": 54,
   "metadata": {
    "collapsed": false
   },
   "outputs": [
    {
     "data": {
      "text/plain": [
       "0    16\n",
       "1    20\n",
       "2     9\n",
       "3    16\n",
       "Name: 0, dtype: int64"
      ]
     },
     "execution_count": 54,
     "metadata": {},
     "output_type": "execute_result"
    }
   ],
   "source": [
    "df_keyword_len = pd.DataFrame(df['Keyword'].unique())[0].apply(lambda x: len(x))\n",
    "df_keyword_len[:4]"
   ]
  },
  {
   "cell_type": "code",
   "execution_count": 55,
   "metadata": {
    "collapsed": false
   },
   "outputs": [
    {
     "data": {
      "text/plain": [
       "20.924031007751939"
      ]
     },
     "execution_count": 55,
     "metadata": {},
     "output_type": "execute_result"
    }
   ],
   "source": [
    "df_keyword_len.mean()"
   ]
  },
  {
   "cell_type": "code",
   "execution_count": 56,
   "metadata": {
    "collapsed": false
   },
   "outputs": [
    {
     "data": {
      "text/plain": [
       "<matplotlib.axes._subplots.AxesSubplot at 0x7fd1f9444650>"
      ]
     },
     "execution_count": 56,
     "metadata": {},
     "output_type": "execute_result"
    },
    {
     "data": {
      "image/png": "[encoded data removed]",
      "text/plain": [
       "<matplotlib.figure.Figure at 0x7fd1f94ce050>"
      ]
     },
     "metadata": {},
     "output_type": "display_data"
    }
   ],
   "source": [
    "df_keyword_len.plot.hist()"
   ]
  },
  {
   "cell_type": "markdown",
   "metadata": {},
   "source": [
    "### URL"
   ]
  },
  {
   "cell_type": "code",
   "execution_count": 57,
   "metadata": {
    "collapsed": false
   },
   "outputs": [
    {
     "data": {
      "text/plain": [
       "273710"
      ]
     },
     "execution_count": 57,
     "metadata": {},
     "output_type": "execute_result"
    }
   ],
   "source": [
    "df['URL'].nunique()"
   ]
  },
  {
   "cell_type": "markdown",
   "metadata": {},
   "source": [
    "a lot of different ones\n",
    "\n",
    "    9 * 10**6 / 250,000 = 36\n",
    "    \n",
    "* 36 rows per url or\n",
    "* every 36 rows the url changes"
   ]
  },
  {
   "cell_type": "markdown",
   "metadata": {},
   "source": [
    "### URL length"
   ]
  },
  {
   "cell_type": "code",
   "execution_count": 58,
   "metadata": {
    "collapsed": false
   },
   "outputs": [
    {
     "data": {
      "text/plain": [
       "0    50\n",
       "1    18\n",
       "2    84\n",
       "3    38\n",
       "Name: 0, dtype: int64"
      ]
     },
     "execution_count": 58,
     "metadata": {},
     "output_type": "execute_result"
    }
   ],
   "source": [
    "df_url_len = pd.DataFrame(df['URL'].unique())[0].apply(lambda x: len(x))\n",
    "df_url_len[:4]"
   ]
  },
  {
   "cell_type": "code",
   "execution_count": 59,
   "metadata": {
    "collapsed": false
   },
   "outputs": [
    {
     "data": {
      "text/plain": [
       "132.12167988016515"
      ]
     },
     "execution_count": 59,
     "metadata": {},
     "output_type": "execute_result"
    }
   ],
   "source": [
    "df_url_len.mean()"
   ]
  },
  {
   "cell_type": "code",
   "execution_count": 60,
   "metadata": {
    "collapsed": false
   },
   "outputs": [
    {
     "data": {
      "text/plain": [
       "<matplotlib.axes._subplots.AxesSubplot at 0x7fd1f8faced0>"
      ]
     },
     "execution_count": 60,
     "metadata": {},
     "output_type": "execute_result"
    },
    {
     "data": {
      "image/png": "[encoded data removed]",
      "text/plain": [
       "<matplotlib.figure.Figure at 0x7fd1f95934d0>"
      ]
     },
     "metadata": {},
     "output_type": "display_data"
    }
   ],
   "source": [
    "df_url_len.plot.hist()"
   ]
  },
  {
   "cell_type": "markdown",
   "metadata": {},
   "source": [
    "### Market"
   ]
  },
  {
   "cell_type": "code",
   "execution_count": 61,
   "metadata": {
    "collapsed": false
   },
   "outputs": [
    {
     "data": {
      "text/plain": [
       "3"
      ]
     },
     "execution_count": 61,
     "metadata": {},
     "output_type": "execute_result"
    }
   ],
   "source": [
    "df['Market'].nunique()"
   ]
  },
  {
   "cell_type": "code",
   "execution_count": 62,
   "metadata": {
    "collapsed": false
   },
   "outputs": [
    {
     "data": {
      "text/plain": [
       "Crawl Date  Market\n",
       "2017-07-01  CA-en      28819\n",
       "            GB-en     141972\n",
       "            US-en     148743\n",
       "2017-07-02  CA-en      28811\n",
       "            GB-en     141922\n",
       "            US-en     148693\n",
       "2017-07-03  CA-en      28823\n",
       "            GB-en     142047\n",
       "            US-en     148582\n",
       "2017-07-04  CA-en      28799\n",
       "            GB-en     142013\n",
       "            US-en     148583\n",
       "dtype: int64"
      ]
     },
     "execution_count": 62,
     "metadata": {},
     "output_type": "execute_result"
    }
   ],
   "source": [
    "df[first_days].groupby(['Crawl Date', 'Market']).size()"
   ]
  },
  {
   "cell_type": "markdown",
   "metadata": {},
   "source": [
    "data for CA-en market is 1/5 of the other markets\n",
    "\n",
    "and that is consistent over 31 days"
   ]
  },
  {
   "cell_type": "code",
   "execution_count": 63,
   "metadata": {
    "collapsed": false
   },
   "outputs": [
    {
     "data": {
      "text/plain": [
       "<matplotlib.axes._subplots.AxesSubplot at 0x7fd1f9044150>"
      ]
     },
     "execution_count": 63,
     "metadata": {},
     "output_type": "execute_result"
    },
    {
     "data": {
      "image/png": "[encoded data removed]",
      "text/plain": [
       "<matplotlib.figure.Figure at 0x7fd1f79f5cd0>"
      ]
     },
     "metadata": {},
     "output_type": "display_data"
    }
   ],
   "source": [
    "df.query('Market == \"CA-en\"').groupby(['Crawl Date']).size().plot()"
   ]
  }
 ],
 "metadata": {
  "kernelspec": {
   "display_name": "Python 2",
   "language": "python",
   "name": "python2"
  },
  "language_info": {
   "codemirror_mode": {
    "name": "ipython",
    "version": 2
   },
   "file_extension": ".py",
   "mimetype": "text/x-python",
   "name": "python",
   "nbconvert_exporter": "python",
   "pygments_lexer": "ipython2",
   "version": "2.7.13"
  }
 },
 "nbformat": 4,
 "nbformat_minor": 0
}
